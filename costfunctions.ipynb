{
  "nbformat": 4,
  "nbformat_minor": 0,
  "metadata": {
    "colab": {
      "provenance": []
    },
    "kernelspec": {
      "name": "python3",
      "display_name": "Python 3"
    },
    "language_info": {
      "name": "python"
    }
  },
  "cells": [
    {
      "cell_type": "code",
      "execution_count": 2,
      "metadata": {
        "id": "nWlRdMbIMdpC"
      },
      "outputs": [],
      "source": [
        "import numpy as nu\n",
        "ypred=nu.array([1,1,0,0,1])\n",
        "ytrue=nu.array([0.30,0.7,1,0,0.5])"
      ]
    },
    {
      "cell_type": "code",
      "source": [
        "def mean_absolute_error(ypred,ytrue):\n",
        "  return nu.mean(nu.abs(ypred-ytrue))\n"
      ],
      "metadata": {
        "id": "rMzZnRf8h12o"
      },
      "execution_count": 3,
      "outputs": []
    },
    {
      "cell_type": "code",
      "source": [
        "mean_absolute_error(ypred,ytrue)"
      ],
      "metadata": {
        "colab": {
          "base_uri": "https://localhost:8080/"
        },
        "id": "W9W1O27MiMnQ",
        "outputId": "4a989be8-d4cb-4a28-c9e3-7fe46bea2e27"
      },
      "execution_count": 4,
      "outputs": [
        {
          "output_type": "execute_result",
          "data": {
            "text/plain": [
              "np.float64(0.5)"
            ]
          },
          "metadata": {},
          "execution_count": 4
        }
      ]
    },
    {
      "cell_type": "code",
      "source": [
        "epsilon=1e-15\n",
        "y_pred_new=[]\n",
        "for i in ypred:\n",
        "  if i==0:\n",
        "    y_pred_new.append(epsilon)\n",
        "  elif i==1:\n",
        "    y_pred_new.append(1-epsilon)\n",
        "  else:\n",
        "    y_pred_new.append(i)"
      ],
      "metadata": {
        "id": "BA-OTcEBiPuA"
      },
      "execution_count": 5,
      "outputs": []
    },
    {
      "cell_type": "code",
      "source": [
        "y_pred_new"
      ],
      "metadata": {
        "colab": {
          "base_uri": "https://localhost:8080/"
        },
        "id": "QLq90G4Kjb6p",
        "outputId": "9540ca3d-5dbc-41b4-cd5c-78e438bd241a"
      },
      "execution_count": 6,
      "outputs": [
        {
          "output_type": "execute_result",
          "data": {
            "text/plain": [
              "[0.999999999999999, 0.999999999999999, 1e-15, 1e-15, 0.999999999999999]"
            ]
          },
          "metadata": {},
          "execution_count": 6
        }
      ]
    },
    {
      "cell_type": "code",
      "source": [
        "sum1=0\n",
        "for i,j in zip(y_pred_new,ytrue):\n",
        "  k=j*nu.log(i)\n",
        "  k1=(1-j)*nu.log(1-i)\n",
        "  sum1=sum1+k+k1\n"
      ],
      "metadata": {
        "id": "s0yCEpOYjd14"
      },
      "execution_count": 14,
      "outputs": []
    },
    {
      "cell_type": "code",
      "source": [
        "sum1"
      ],
      "metadata": {
        "colab": {
          "base_uri": "https://localhost:8080/"
        },
        "id": "xjx9Obt4jxtN",
        "outputId": "623c06d6-d669-4f8f-ff0c-55cf5fc09bc7"
      },
      "execution_count": 15,
      "outputs": [
        {
          "output_type": "execute_result",
          "data": {
            "text/plain": [
              "np.float64(-86.34814038342199)"
            ]
          },
          "metadata": {},
          "execution_count": 15
        }
      ]
    },
    {
      "cell_type": "code",
      "source": [
        "sum1=-sum1/len(y_pred_new)"
      ],
      "metadata": {
        "id": "FtxkvnuLkQFZ"
      },
      "execution_count": 16,
      "outputs": []
    },
    {
      "cell_type": "code",
      "source": [
        "print('binary cross entropy',sum1)"
      ],
      "metadata": {
        "colab": {
          "base_uri": "https://localhost:8080/"
        },
        "id": "tmBs6oi1kijm",
        "outputId": "c9c6face-3520-4419-cddd-dc2c4cfa3c25"
      },
      "execution_count": 21,
      "outputs": [
        {
          "output_type": "stream",
          "name": "stdout",
          "text": [
            "binary cross entropy 17.2696280766844\n"
          ]
        }
      ]
    },
    {
      "cell_type": "code",
      "source": [
        "def mean_square_error(ypred,ytrue):\n",
        "  return nu.mean(nu.square(nu.abs(ypred-ytrue)))"
      ],
      "metadata": {
        "id": "06qhOHK0kjjU"
      },
      "execution_count": 18,
      "outputs": []
    },
    {
      "cell_type": "code",
      "source": [
        "mean_square_error(ypred,ytrue)"
      ],
      "metadata": {
        "colab": {
          "base_uri": "https://localhost:8080/"
        },
        "id": "7r-yXCk3lPmT",
        "outputId": "9b8a29ad-b81e-4c4e-e7f1-da95327c800d"
      },
      "execution_count": 20,
      "outputs": [
        {
          "output_type": "execute_result",
          "data": {
            "text/plain": [
              "np.float64(0.366)"
            ]
          },
          "metadata": {},
          "execution_count": 20
        }
      ]
    },
    {
      "cell_type": "code",
      "source": [],
      "metadata": {
        "id": "L_NHh20FlT0e"
      },
      "execution_count": null,
      "outputs": []
    }
  ]
}